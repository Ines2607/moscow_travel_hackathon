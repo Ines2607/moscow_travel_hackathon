{
 "cells": [
  {
   "cell_type": "code",
   "execution_count": 6,
   "metadata": {},
   "outputs": [],
   "source": [
    "import pandas as pd\n",
    "def get_list_id(df_cat,list_interest, c=10):\n",
    "    df_sort=df_cat[df_cat.groupby(['Category_2'])['pop_place'].rank()<=15].reset_index().sort_values('Category_2')\n",
    "    #print(df_sort)\n",
    "    rnd.seed(65)\n",
    "    list_top=[]\n",
    "    max_v=c//len(list_interest)\n",
    "    for inter in list_interest:\n",
    "        v_max=min(15,df_sort[df_sort['Category_2']==inter].shape[0]-1 )\n",
    "        list_top=list_top+df_sort[df_sort['Category_2']==inter].iloc[list(set([rnd.randint(0,v_max) for i in range(0,max_v)]))]['Name'].values.tolist()\n",
    "    return list_top"
   ]
  }
 ],
 "metadata": {
  "kernelspec": {
   "display_name": "Python 3",
   "language": "python",
   "name": "python3"
  },
  "language_info": {
   "codemirror_mode": {
    "name": "ipython",
    "version": 3
   },
   "file_extension": ".py",
   "mimetype": "text/x-python",
   "name": "python",
   "nbconvert_exporter": "python",
   "pygments_lexer": "ipython3",
   "version": "3.7.4"
  }
 },
 "nbformat": 4,
 "nbformat_minor": 2
}
