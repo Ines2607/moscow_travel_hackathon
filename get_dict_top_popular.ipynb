{
 "cells": [
  {
   "cell_type": "code",
   "execution_count": 38,
   "metadata": {},
   "outputs": [],
   "source": [
    "def get_dict_top_popular(list_interest):\n",
    "    import pandas as pd\n",
    "    import random as rnd\n",
    "    df=pd.read_csv('./list_attract_pop.csv')\n",
    "    df_cat=df[df['Category_2'].isin(list_interest)]\n",
    "    list_top=get_list_id(df_cat,list_interest)\n",
    "    return list_top"
   ]
  }
 ],
 "metadata": {
  "kernelspec": {
   "display_name": "Python 3",
   "language": "python",
   "name": "python3"
  },
  "language_info": {
   "codemirror_mode": {
    "name": "ipython",
    "version": 3
   },
   "file_extension": ".py",
   "mimetype": "text/x-python",
   "name": "python",
   "nbconvert_exporter": "python",
   "pygments_lexer": "ipython3",
   "version": "3.7.4"
  }
 },
 "nbformat": 4,
 "nbformat_minor": 2
}
