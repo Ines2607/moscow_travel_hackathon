{
 "cells": [
  {
   "cell_type": "code",
   "execution_count": 1,
   "metadata": {},
   "outputs": [],
   "source": [
    "import folium\n",
    "from folium import Choropleth, Circle, Marker\n",
    "from folium.plugins import HeatMap, MarkerCluster\n",
    "\n",
    "from pyroutelib3 import Router\n",
    "\n",
    "def build_route(lat1, lon1, lat2, lon2, type_move='foot'):\n",
    "    router = Router('foot') # car, cycle, foot, horse, tram, train\n",
    "\n",
    "    start = router.findNode(lat1, lon1) # Find start and end nodes\n",
    "    end = router.findNode(lat2, lon2)\n",
    "    status, route = router.doRoute(start, end) # Find the route - a list of OSM nodes\n",
    "    print(status)\n",
    "    if status == 'success':\n",
    "        route = list(map(router.nodeLatLon, route)) # Get actual route coordinates\n",
    "    return  route\n",
    "\n",
    "def calculate_distance_meters(route):\n",
    "    total = 0.0\n",
    "    for idx in range(1, len(route)):\n",
    "        total += router.distance(route[idx - 1], route[idx])\n",
    "    return total*1000"
   ]
  },
  {
   "cell_type": "code",
   "execution_count": null,
   "metadata": {},
   "outputs": [],
   "source": [
    "for i,obj1 in enumerate(list_obj):\n",
    "    for j,obj2 in enumerate(list_obj):\n",
    "        if i!=j:\n",
    "#             m_dist[i,j]= geo_attract.loc[geo_attract['global_id']==obj1,'geometry'].distance(geo_attract.loc[geo_attract['global_id']==obj2,'geometry'])\n",
    "            lon1=geo_attract.loc[geo_attract['global_id']==obj1,'geometry'].centroid.x.values[0]\n",
    "            lat1=geo_attract.loc[geo_attract['global_id']==obj1,'geometry'].centroid.y.values[0]\n",
    "            lon2=geo_attract.loc[geo_attract['global_id']==obj2,'geometry'].centroid.x.values[0]\n",
    "            lat2=geo_attract.loc[geo_attract['global_id']==obj2,'geometry'].centroid.y.values[0]\n",
    "            route=build_route(lat1, lon1, lat2, lon2, type_move='foot')\n",
    "            m_dist[i,j]=calculate_distance_meters(route)"
   ]
  }
 ],
 "metadata": {
  "kernelspec": {
   "display_name": "Python 3",
   "language": "python",
   "name": "python3"
  },
  "language_info": {
   "codemirror_mode": {
    "name": "ipython",
    "version": 3
   },
   "file_extension": ".py",
   "mimetype": "text/x-python",
   "name": "python",
   "nbconvert_exporter": "python",
   "pygments_lexer": "ipython3",
   "version": "3.7.4"
  }
 },
 "nbformat": 4,
 "nbformat_minor": 2
}
