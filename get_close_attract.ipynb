{
 "cells": [
  {
   "cell_type": "code",
   "execution_count": 38,
   "metadata": {},
   "outputs": [],
   "source": [
    "import json\n",
    "import pandas as pd\n",
    "import random as rnd\n",
    "#def get_close_object(global_id):\n",
    "    "
   ]
  },
  {
   "cell_type": "code",
   "execution_count": 87,
   "metadata": {},
   "outputs": [],
   "source": [
    "def get_close_attract (obj, list_interest):\n",
    "    dict_obj=json.loads(open('./close_attract_glid.json', 'r').read())\n",
    "    close_ids=dict_obj[str(obj)][1:]\n",
    "    df=pd.read_csv('list_attract_pop.csv')\n",
    "    df_cat=df[df['index'].isin(close_ids)]\n",
    "    list_top=get_list_id(df_cat,list_interest,4)\n",
    "    return list_top"
   ]
  },
  {
   "cell_type": "code",
   "execution_count": null,
   "metadata": {},
   "outputs": [],
   "source": []
  }
 ],
 "metadata": {
  "kernelspec": {
   "display_name": "Python 3",
   "language": "python",
   "name": "python3"
  },
  "language_info": {
   "codemirror_mode": {
    "name": "ipython",
    "version": 3
   },
   "file_extension": ".py",
   "mimetype": "text/x-python",
   "name": "python",
   "nbconvert_exporter": "python",
   "pygments_lexer": "ipython3",
   "version": "3.7.4"
  }
 },
 "nbformat": 4,
 "nbformat_minor": 2
}
