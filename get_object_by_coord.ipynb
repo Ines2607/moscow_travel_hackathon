{
 "cells": [
  {
   "cell_type": "code",
   "execution_count": 6,
   "metadata": {},
   "outputs": [],
   "source": [
    "def get_object_by_coord(coords):#[{“lat”:, “long”:}]\n",
    "    lat=coords[0]['lat']\n",
    "    long=coords[0]['long']\n",
    "    from geopy.geocoders import Nominatim\n",
    "    geolocator = Nominatim(user_agent=\"specify_your_app_name_here\")\n",
    "    location = geolocator.reverse(\"%s, %s\"%(lat,long))\n",
    "    return(location.address.split(',')[0])"
   ]
  }
 ],
 "metadata": {
  "kernelspec": {
   "display_name": "Python 3",
   "language": "python",
   "name": "python3"
  },
  "language_info": {
   "codemirror_mode": {
    "name": "ipython",
    "version": 3
   },
   "file_extension": ".py",
   "mimetype": "text/x-python",
   "name": "python",
   "nbconvert_exporter": "python",
   "pygments_lexer": "ipython3",
   "version": "3.7.4"
  }
 },
 "nbformat": 4,
 "nbformat_minor": 2
}
